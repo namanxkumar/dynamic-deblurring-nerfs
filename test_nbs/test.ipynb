{
 "cells": [
  {
   "cell_type": "code",
   "execution_count": 1,
   "metadata": {},
   "outputs": [],
   "source": [
    "from dataset import Adobe240SingularPixels"
   ]
  },
  {
   "cell_type": "code",
   "execution_count": 2,
   "metadata": {},
   "outputs": [],
   "source": [
    "dataset = Adobe240SingularPixels(\n",
    "    blur_directory='data/adobe240singulardataset/train_blur/GOPR9647/',\n",
    "    sharp_directory='data/adobe240singulardataset/train/GOPR9647/',\n",
    "    image_extension='png',\n",
    "    num_frames_per_blur=7,\n",
    "    num_chunks=2,\n",
    ")"
   ]
  },
  {
   "cell_type": "code",
   "execution_count": 3,
   "metadata": {},
   "outputs": [
    {
     "name": "stdout",
     "output_type": "stream",
     "text": [
      "76\n",
      "88\n",
      "160\n",
      "14080\n",
      "7040\n"
     ]
    }
   ],
   "source": [
    "print(len(dataset))\n",
    "print(dataset.image_height)\n",
    "print(dataset.image_width)\n",
    "print(dataset.num_pixels)\n",
    "print(dataset.num_pixels_per_chunk)"
   ]
  },
  {
   "cell_type": "code",
   "execution_count": 4,
   "metadata": {},
   "outputs": [
    {
     "name": "stdout",
     "output_type": "stream",
     "text": [
      "torch.Size([14080, 3])\n",
      "torch.Size([2, 7040, 2])\n",
      "torch.Size([2, 7040, 3])\n",
      "torch.Size([2, 7, 7040, 3])\n",
      "3\n"
     ]
    }
   ],
   "source": [
    "index = 0\n",
    "sample = dataset[index]\n",
    "print(sample['pixel_indices'].shape)\n",
    "print(sample['blur_image'].shape)\n",
    "print(sample['sharp_images'].shape)\n",
    "print(sample['time_step'])"
   ]
  },
  {
   "cell_type": "code",
   "execution_count": 5,
   "metadata": {},
   "outputs": [],
   "source": [
    "# dataset.visualize(index)"
   ]
  },
  {
   "cell_type": "code",
   "execution_count": 6,
   "metadata": {},
   "outputs": [],
   "source": [
    "# import torch\n",
    "\n",
    "# time_step = torch.tensor([3, 10])\n",
    "# num_time_steps_per_frame = 7\n",
    "# time_step_batch = torch.ones(\n",
    "#     time_step.shape[0], num_time_steps_per_frame\n",
    "# )\n",
    "# time_step_batch = (\n",
    "#     torch.arange(-(num_time_steps_per_frame//2), (num_time_steps_per_frame//2) + 1) * time_step_batch\n",
    "# )  # Shape: (batch_size, num_time_steps_per_frame)\n",
    "# time_step_batch = (\n",
    "#     time_step_batch + time_step[:, None]\n",
    "# )  # Shape: (batch_size, num_time_steps_per_frame)\n",
    "# print(time_step_batch)"
   ]
  }
 ],
 "metadata": {
  "kernelspec": {
   "display_name": "torchbase38",
   "language": "python",
   "name": "python3"
  },
  "language_info": {
   "codemirror_mode": {
    "name": "ipython",
    "version": 3
   },
   "file_extension": ".py",
   "mimetype": "text/x-python",
   "name": "python",
   "nbconvert_exporter": "python",
   "pygments_lexer": "ipython3",
   "version": "3.8.18"
  },
  "orig_nbformat": 4
 },
 "nbformat": 4,
 "nbformat_minor": 2
}
