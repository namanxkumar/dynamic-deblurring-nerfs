{
 "cells": [
  {
   "cell_type": "code",
   "execution_count": 1,
   "metadata": {},
   "outputs": [],
   "source": [
    "import torch\n",
    "from train import Trainer"
   ]
  },
  {
   "cell_type": "code",
   "execution_count": 2,
   "metadata": {},
   "outputs": [],
   "source": [
    "device = torch.device(\"cpu\")"
   ]
  },
  {
   "cell_type": "code",
   "execution_count": 3,
   "metadata": {},
   "outputs": [],
   "source": [
    "# model = Model(\n",
    "#     image_width=640//10,\n",
    "#     image_height=352//10,\n",
    "#     num_time_steps_per_frame=7,\n",
    "#     num_frames=76,\n",
    "#     num_coarse_samples_per_ray=64,\n",
    "#     num_fine_samples_per_ray=64,\n",
    "#     near_depth=0.1,\n",
    "#     far_depth=1.0,\n",
    "#     num_scene_trajectory_basis_coefficients=8,\n",
    "#     num_camera_trajectory_basis_coefficients=8,\n",
    "#     num_voxels_per_axis=128,\n",
    "#     min_bound_per_axis=1.0,\n",
    "#     max_bound_per_axis=11.0,\n",
    "#     voxel_dim=8,\n",
    "#     color_model_hidden_dim=32,\n",
    "#     device=device,\n",
    "# )"
   ]
  },
  {
   "cell_type": "code",
   "execution_count": 3,
   "metadata": {},
   "outputs": [
    {
     "data": {
      "text/plain": [
       "device(type='cpu')"
      ]
     },
     "execution_count": 3,
     "metadata": {},
     "output_type": "execute_result"
    }
   ],
   "source": [
    "trainer = Trainer(\n",
    "    batch_size=1,\n",
    "    num_chunks=32,\n",
    "    num_steps=1,\n",
    "    num_steps_per_save=1,\n",
    "    image_downscale_factor=1,\n",
    "    num_time_steps_per_frame=7,\n",
    "    num_coarse_samples_per_ray=4,\n",
    "    num_fine_samples_per_ray=4,\n",
    "    near_depth=0.1,\n",
    "    far_depth=1.0,\n",
    "    num_scene_trajectory_basis_coefficients=4,\n",
    "    num_camera_trajectory_basis_coefficients=4,\n",
    "    num_voxels_per_axis=8,\n",
    "    min_bound_per_axis=1.0,\n",
    "    max_bound_per_axis=11.0,\n",
    "    voxel_dim=4,\n",
    "    color_model_hidden_dim=4,\n",
    "    cpu=True,\n",
    ")\n",
    "trainer.accelerator.device"
   ]
  },
  {
   "cell_type": "code",
   "execution_count": 4,
   "metadata": {},
   "outputs": [
    {
     "data": {
      "text/plain": [
       "1133396"
      ]
     },
     "execution_count": 4,
     "metadata": {},
     "output_type": "execute_result"
    }
   ],
   "source": [
    "sum(p.numel() for p in trainer.model.parameters())"
   ]
  },
  {
   "cell_type": "code",
   "execution_count": 5,
   "metadata": {},
   "outputs": [
    {
     "name": "stdout",
     "output_type": "stream",
     "text": [
      "Number of steps:  1\n",
      "Number of steps per save:  1\n",
      "Batch size:  1\n",
      "Number of chunks:  32\n"
     ]
    },
    {
     "data": {
      "application/vnd.jupyter.widget-view+json": {
       "model_id": "dee0ff775d1447e9bc81074cc4350958",
       "version_major": 2,
       "version_minor": 0
      },
      "text/plain": [
       "  0%|          | 0/1 [00:00<?, ?it/s]"
      ]
     },
     "metadata": {},
     "output_type": "display_data"
    },
    {
     "data": {
      "application/vnd.jupyter.widget-view+json": {
       "model_id": "afda0bdfda16450b8912fa6e561b7cc0",
       "version_major": 2,
       "version_minor": 0
      },
      "text/plain": [
       "  0%|          | 0/32 [00:00<?, ?it/s]"
      ]
     },
     "metadata": {},
     "output_type": "display_data"
    }
   ],
   "source": [
    "trainer.train()"
   ]
  }
 ],
 "metadata": {
  "kernelspec": {
   "display_name": "torchbase38",
   "language": "python",
   "name": "python3"
  },
  "language_info": {
   "codemirror_mode": {
    "name": "ipython",
    "version": 3
   },
   "file_extension": ".py",
   "mimetype": "text/x-python",
   "name": "python",
   "nbconvert_exporter": "python",
   "pygments_lexer": "ipython3",
   "version": "3.8.18"
  },
  "orig_nbformat": 4
 },
 "nbformat": 4,
 "nbformat_minor": 2
}
