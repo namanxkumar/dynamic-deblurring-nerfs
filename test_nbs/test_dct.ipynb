{
 "cells": [
  {
   "cell_type": "code",
   "execution_count": 1,
   "metadata": {},
   "outputs": [],
   "source": [
    "import torch"
   ]
  },
  {
   "cell_type": "code",
   "execution_count": 7,
   "metadata": {},
   "outputs": [
    {
     "name": "stdout",
     "output_type": "stream",
     "text": [
      "tensor([[[ 0.0421,  0.7913],\n",
      "         [ 0.9218,  0.8418]],\n",
      "\n",
      "        [[ 0.8133,  0.1313],\n",
      "         [-0.3978,  1.1270]],\n",
      "\n",
      "        [[ 0.8449, -0.6964],\n",
      "         [-0.5147,  0.9430]]])\n",
      "tensor([[[ 0.0421,  0.7913],\n",
      "         [ 0.9218,  0.8418]],\n",
      "\n",
      "        [[ 0.8133,  0.1313],\n",
      "         [-0.3978,  1.1270]],\n",
      "\n",
      "        [[ 0.8449, -0.6964],\n",
      "         [-0.5147,  0.9430]]])\n"
     ]
    }
   ],
   "source": [
    "x = torch.randn(3, 2, 2)\n",
    "print(x)\n",
    "y = torch.ones(3, 1).unsqueeze(-1).repeat(1, 2, 2)\n",
    "print(x*y)"
   ]
  },
  {
   "cell_type": "code",
   "execution_count": 4,
   "metadata": {},
   "outputs": [],
   "source": [
    "# h x t\n",
    "num_time_steps = torch.tensor(5)\n",
    "num_basis_coefficients = torch.tensor(4)\n",
    "dct_basis_function_matrix = torch.zeros([num_time_steps, num_basis_coefficients])\n",
    "for time_step_index in range(num_time_steps):\n",
    "    for basis_coefficient_index in range(num_basis_coefficients):\n",
    "        dct_basis_function_matrix[\n",
    "            time_step_index, basis_coefficient_index\n",
    "        ] = torch.sqrt(2.0 / num_time_steps) * torch.cos(\n",
    "            torch.pi\n",
    "            / (2.0 * num_time_steps)\n",
    "            * (2.0 * time_step_index + 1.0)\n",
    "            * basis_coefficient_index\n",
    "        )"
   ]
  },
  {
   "cell_type": "code",
   "execution_count": 49,
   "metadata": {},
   "outputs": [
    {
     "data": {
      "text/plain": [
       "torch.Size([5, 8])"
      ]
     },
     "execution_count": 49,
     "metadata": {},
     "output_type": "execute_result"
    }
   ],
   "source": [
    "dct_basis_function_matrix.repeat(1, 2).shape"
   ]
  },
  {
   "cell_type": "code",
   "execution_count": 41,
   "metadata": {},
   "outputs": [
    {
     "data": {
      "text/plain": [
       "tensor([[ 0.1270,  1.8347,  0.7564,  0.9836],\n",
       "        [ 0.1931, -0.4562, -0.0228, -0.9139],\n",
       "        [-0.9598,  0.4207,  0.9171, -0.4814]])"
      ]
     },
     "execution_count": 41,
     "metadata": {},
     "output_type": "execute_result"
    }
   ],
   "source": [
    "t = 3\n",
    "pos = torch.tensor([0.5, 0.5, 0.5])[None, ...]\n",
    "linear_layer_output = torch.randn([3, num_basis_coefficients])\n",
    "linear_layer_output"
   ]
  },
  {
   "cell_type": "code",
   "execution_count": 42,
   "metadata": {},
   "outputs": [
    {
     "data": {
      "text/plain": [
       "tensor([ 6.3246e-01, -2.7646e-08, -6.3246e-01,  7.5420e-09])"
      ]
     },
     "execution_count": 42,
     "metadata": {},
     "output_type": "execute_result"
    }
   ],
   "source": [
    "dct_basis_function_matrix[t-1]"
   ]
  },
  {
   "cell_type": "code",
   "execution_count": 43,
   "metadata": {},
   "outputs": [
    {
     "data": {
      "text/plain": [
       "tensor([0.1270, 1.8347, 0.7564, 0.9836])"
      ]
     },
     "execution_count": 43,
     "metadata": {},
     "output_type": "execute_result"
    }
   ],
   "source": [
    "linear_layer_output[0]"
   ]
  },
  {
   "cell_type": "code",
   "execution_count": 45,
   "metadata": {},
   "outputs": [
    {
     "data": {
      "text/plain": [
       "tensor(-0.3980)"
      ]
     },
     "execution_count": 45,
     "metadata": {},
     "output_type": "execute_result"
    }
   ],
   "source": [
    "output_x = torch.sum(dct_basis_function_matrix[t-1] * linear_layer_output[0])\n",
    "output_x"
   ]
  },
  {
   "cell_type": "code",
   "execution_count": 37,
   "metadata": {},
   "outputs": [
    {
     "ename": "RuntimeError",
     "evalue": "linalg.solve: A must be batches of square matrices, but they are 1 by 4 matrices",
     "output_type": "error",
     "traceback": [
      "\u001b[0;31m---------------------------------------------------------------------------\u001b[0m",
      "\u001b[0;31mRuntimeError\u001b[0m                              Traceback (most recent call last)",
      "Cell \u001b[0;32mIn[37], line 1\u001b[0m\n\u001b[0;32m----> 1\u001b[0m ideal_output \u001b[39m=\u001b[39m torch\u001b[39m.\u001b[39;49mlinalg\u001b[39m.\u001b[39;49msolve(dct_basis_function_matrix[t\u001b[39m-\u001b[39;49m\u001b[39m1\u001b[39;49m][\u001b[39mNone\u001b[39;49;00m, \u001b[39m.\u001b[39;49m\u001b[39m.\u001b[39;49m\u001b[39m.\u001b[39;49m], pos)\n",
      "\u001b[0;31mRuntimeError\u001b[0m: linalg.solve: A must be batches of square matrices, but they are 1 by 4 matrices"
     ]
    }
   ],
   "source": [
    "ideal_output = torch.linalg.solve(dct_basis_function_matrix[t-1][None, ...], pos)"
   ]
  }
 ],
 "metadata": {
  "kernelspec": {
   "display_name": "torchbase38",
   "language": "python",
   "name": "python3"
  },
  "language_info": {
   "codemirror_mode": {
    "name": "ipython",
    "version": 3
   },
   "file_extension": ".py",
   "mimetype": "text/x-python",
   "name": "python",
   "nbconvert_exporter": "python",
   "pygments_lexer": "ipython3",
   "version": "3.8.18"
  },
  "orig_nbformat": 4
 },
 "nbformat": 4,
 "nbformat_minor": 2
}
