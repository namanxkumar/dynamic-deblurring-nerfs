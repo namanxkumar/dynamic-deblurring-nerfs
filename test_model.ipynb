{
 "cells": [
  {
   "cell_type": "code",
   "execution_count": 1,
   "metadata": {},
   "outputs": [],
   "source": [
    "from model.model import Model"
   ]
  },
  {
   "cell_type": "code",
   "execution_count": 2,
   "metadata": {},
   "outputs": [],
   "source": [
    "model = Model(\n",
    "    focal_length=0.05,\n",
    "    image_width=640,\n",
    "    image_height=480,\n",
    "    num_time_steps_per_frame=5,\n",
    "    num_frames=10,\n",
    "    num_samples_per_ray=128,\n",
    "    near_depth=0.1,\n",
    "    far_depth=10.0,\n",
    "    num_scene_trajectory_basis_coefficients=48,\n",
    "    num_camera_trajectory_basis_coefficients=48,\n",
    "    num_voxels_per_axis=128,\n",
    "    min_bound_per_axis=1.0,\n",
    "    max_bound_per_axis=10.0,\n",
    "    voxel_dim=64,\n",
    "    color_model_hidden_dim=128,\n",
    ")"
   ]
  },
  {
   "cell_type": "code",
   "execution_count": 3,
   "metadata": {},
   "outputs": [
    {
     "data": {
      "text/plain": [
       "135901573"
      ]
     },
     "execution_count": 3,
     "metadata": {},
     "output_type": "execute_result"
    }
   ],
   "source": [
    "sum(p.numel() for p in model.parameters())"
   ]
  },
  {
   "cell_type": "code",
   "execution_count": 4,
   "metadata": {},
   "outputs": [
    {
     "name": "stdout",
     "output_type": "stream",
     "text": [
      "Model(\n",
      "  (render_image): RenderImage(\n",
      "    (camera_motion_model): CameraMotionModel(\n",
      "      (positional_embedding): PositionalEmbedding()\n",
      "      (linear_layers): ModuleList(\n",
      "        (0): Linear(in_features=33, out_features=256, bias=True)\n",
      "        (1-4): 4 x Linear(in_features=256, out_features=256, bias=True)\n",
      "        (5): Linear(in_features=260, out_features=256, bias=True)\n",
      "        (6-8): 3 x Linear(in_features=256, out_features=256, bias=True)\n",
      "        (9): Linear(in_features=260, out_features=256, bias=True)\n",
      "        (10-12): 3 x Linear(in_features=256, out_features=256, bias=True)\n",
      "        (13): Linear(in_features=260, out_features=256, bias=True)\n",
      "        (14-15): 2 x Linear(in_features=256, out_features=256, bias=True)\n",
      "      )\n",
      "      (output_layer): Linear(in_features=256, out_features=576, bias=True)\n",
      "    )\n",
      "    (render_ray): RenderRay(\n",
      "      (scene_motion_model): SceneMotionModel(\n",
      "        (positional_embedding): PositionalEmbedding()\n",
      "        (linear_layers): ModuleList(\n",
      "          (0): Linear(in_features=20, out_features=256, bias=True)\n",
      "          (1-4): 4 x Linear(in_features=256, out_features=256, bias=True)\n",
      "          (5): Linear(in_features=260, out_features=256, bias=True)\n",
      "          (6-7): 2 x Linear(in_features=256, out_features=256, bias=True)\n",
      "        )\n",
      "        (output_layer): Linear(in_features=256, out_features=144, bias=True)\n",
      "      )\n",
      "      (spatial_voxel_model): SceneSpatialVoxelModel()\n",
      "      (spatial_density_model): SceneSpatialDensityModel()\n",
      "      (spatial_color_model): SceneSpatialColorModel(\n",
      "        (voxel_feature_positional_embedding): PositionalEmbedding()\n",
      "        (view_direction_positional_embedding): PositionalEmbedding()\n",
      "        (interstitial_feature_mlp): Sequential(\n",
      "          (0): Linear(in_features=70, out_features=128, bias=True)\n",
      "          (1): ReLU()\n",
      "          (2): Linear(in_features=128, out_features=128, bias=True)\n",
      "          (3): ReLU()\n",
      "        )\n",
      "        (view_mlp): Linear(in_features=134, out_features=3, bias=True)\n",
      "      )\n",
      "    )\n",
      "  )\n",
      ")\n"
     ]
    }
   ],
   "source": [
    "print(model)"
   ]
  }
 ],
 "metadata": {
  "kernelspec": {
   "display_name": "torchbase38",
   "language": "python",
   "name": "python3"
  },
  "language_info": {
   "codemirror_mode": {
    "name": "ipython",
    "version": 3
   },
   "file_extension": ".py",
   "mimetype": "text/x-python",
   "name": "python",
   "nbconvert_exporter": "python",
   "pygments_lexer": "ipython3",
   "version": "3.8.18"
  },
  "orig_nbformat": 4
 },
 "nbformat": 4,
 "nbformat_minor": 2
}
